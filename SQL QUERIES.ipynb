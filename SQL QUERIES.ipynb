{
 "cells": [
  {
   "cell_type": "markdown",
   "id": "81681260-0f6c-4518-b90c-684318048b59",
   "metadata": {},
   "source": [
    "#SQL QUERIES USED ARE:\n",
    "%load_ext sql\r\n",
    "%sql sqlite:///my_data1.db\r\n",
    "\r\n",
    "%sql DROP TABLE IF EXISTS SPACEXTABLE;\r\n",
    "%sql create table SPACEXTABLE as select * from SPACEXTBL where Date is not null\r\n",
    "%sql SELECT DISTINCT(Launch_Site) FROM SPACEXTBL\r\n",
    "%sql SELECT * FROM SPACEXTBL WHERE Launch_Site like 'CCA%' LIMIT 5\r\n",
    "%sql SELECT  SUM(PAYLOAD_MASS__KG_) from SPACEXTBL\r\n",
    "\r\n",
    "%sql SELECT  AVG(PAYLOAD_MASS__KG_) from SPACEXTBL WHERE (Booster_Version ='F9 v1.1')\r\n",
    "%sql SELECT MIN(DATE) FROM SPACEXTBL WHERE (Mission_Outcome='Success')\r\n",
    "%sql SELECT Booster_Version FROM SPACEXTBL WHERE (Mission_Outcome='Success') AND %sql SELECT COUNT(Mission_Outcomes) AS Successful_Missions FROM SPACEXTBL WHERE (Mission_Outcomes='Success') BETWEEN 4000 AND 6000)\r\n",
    "%sql SELECT COUNT(Mission_Outcome) AS Successful_Missions FROM SPACEXTBL WHERE (Mission_Outcome='Success')\r\n",
    "#%sql SELECT COUNT(Mission_Outcome) AS Unuccessful_Missions FROM SPACEXTBL WHERE (Mission_Outcome='Failure')\r\n",
    "%sql SELECT Booster_Version FROM SPACEXTBL WHERE(SELECT MAX(PAYLOAD_MASS__KG_) FROM SPACEXTBL)\r\n",
    "%sql SELECT date, landing__outcome, booster_version, launch_site FROM spacextbl WHERE landing__outcome LIKE 'Failure (drone ship)' AND DATE LIKE '%2015%\r\n",
    "\n"
   ]
  }
 ],
 "metadata": {
  "kernelspec": {
   "display_name": "Python 3 (ipykernel)",
   "language": "python",
   "name": "python3"
  },
  "language_info": {
   "codemirror_mode": {
    "name": "ipython",
    "version": 3
   },
   "file_extension": ".py",
   "mimetype": "text/x-python",
   "name": "python",
   "nbconvert_exporter": "python",
   "pygments_lexer": "ipython3",
   "version": "3.12.4"
  }
 },
 "nbformat": 4,
 "nbformat_minor": 5
}
